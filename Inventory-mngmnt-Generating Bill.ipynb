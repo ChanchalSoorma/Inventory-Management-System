{
 "cells": [
  {
   "cell_type": "code",
   "execution_count": 7,
   "id": "7c06b283-ece4-406b-9c40-1a9218b77fdb",
   "metadata": {},
   "outputs": [],
   "source": [
    "record = {1001 : {'Name' :'5 Star'        , 'Price': 10   , 'Qn' : 200},\n",
    "          1002 : {'Name' :'Kitkat'        , 'Price': 20   , 'Qn' : 300}, \n",
    "          1003 : {'Name' :'Candy'         , 'Price': 2    , 'Qn' : 1000}, \n",
    "          1004 : {'Name' :'Chocolate Cake', 'Price': 550  , 'Qn' : 8},\n",
    "          1005 : {'Name' :'Blueberry Cake', 'Price': 650  , 'Qn' : 5}}"
   ]
  },
  {
   "cell_type": "code",
   "execution_count": 8,
   "id": "6cc15cf8-6577-469c-a952-0f37196b6ee1",
   "metadata": {},
   "outputs": [
    {
     "data": {
      "text/plain": [
       "{1001: {'Name': '5 Star', 'Price': 10, 'Qn': 200},\n",
       " 1002: {'Name': 'Kitkat', 'Price': 20, 'Qn': 300},\n",
       " 1003: {'Name': 'Candy', 'Price': 2, 'Qn': 1000},\n",
       " 1004: {'Name': 'Chocolate Cake', 'Price': 550, 'Qn': 8},\n",
       " 1005: {'Name': 'Blueberry Cake', 'Price': 650, 'Qn': 5}}"
      ]
     },
     "execution_count": 8,
     "metadata": {},
     "output_type": "execute_result"
    }
   ],
   "source": [
    "record"
   ]
  },
  {
   "cell_type": "code",
   "execution_count": 14,
   "id": "6f2531ad-05b8-4e30-a8c6-887f90fa3954",
   "metadata": {},
   "outputs": [
    {
     "name": "stdout",
     "output_type": "stream",
     "text": [
      "---------------MENU---------------\n",
      "\n",
      "1001 : 5 Star | 10 | 200\n",
      "1002 : Kitkat | 20 | 300\n",
      "1003 : Candy | 2 | 1000\n",
      "1004 : Chocolate Cake | 550 | 8\n",
      "1005 : Blueberry Cake | 650 | 5\n",
      "\n",
      "----------------------------------\n"
     ]
    }
   ],
   "source": [
    "# To print the menu in proper format\n",
    "\n",
    "print('---------------MENU---------------\\n')\n",
    "for key in record.keys():\n",
    "    print(key,':', record[key]['Name'],'|', record[key]['Price'],'|', record[key]['Qn'])\n",
    "print('\\n----------------------------------')"
   ]
  },
  {
   "cell_type": "code",
   "execution_count": 18,
   "id": "7c92eea1-39f9-4ec4-a71f-a9608691a8e3",
   "metadata": {},
   "outputs": [
    {
     "name": "stdout",
     "output_type": "stream",
     "text": [
      "---------------MENU---------------\n",
      "\n",
      "1001 : 5 Star | 10 | 200\n",
      "1002 : Kitkat | 20 | 300\n",
      "1003 : Candy | 2 | 1000\n",
      "1004 : Chocolate Cake | 550 | 8\n",
      "1005 : Blueberry Cake | 650 | 5\n",
      "\n",
      "----------------------------------\n"
     ]
    },
    {
     "name": "stdin",
     "output_type": "stream",
     "text": [
      "Enter product ID :  1002\n",
      "Enter quantity   :  50\n"
     ]
    },
    {
     "name": "stdout",
     "output_type": "stream",
     "text": [
      "\n",
      "----------------------------------\n",
      "               Bill                 \n",
      "\n",
      "Name             :  Kitkat\n",
      "Price            :  20 Rs\n",
      "Quantity         :  50\n",
      "----------------------------------\n",
      "Billing Amount   :  1000 Rs\n",
      "----------------------------------\n"
     ]
    }
   ],
   "source": [
    "print('---------------MENU---------------\\n')\n",
    "for key in record.keys():\n",
    "    print(key,':', record[key]['Name'],'|', record[key]['Price'],'|', record[key]['Qn'])\n",
    "print('\\n----------------------------------')\n",
    "\n",
    "ui_pr = int(input('Enter product ID : '))\n",
    "ui_qn = int(input('Enter quantity   : '))\n",
    "print('\\n----------------------------------')\n",
    "print('               Bill                 \\n')\n",
    "\n",
    "print('Name             : ', record[ui_pr]['Name'])\n",
    "print('Price            : ', record[ui_pr]['Price'],'Rs')\n",
    "print('Quantity         : ', ui_qn)\n",
    "print('----------------------------------')\n",
    "\n",
    "print('Billing Amount   : ', record[ui_pr]['Price'] * ui_qn,'Rs')\n",
    "print('----------------------------------')\n"
   ]
  },
  {
   "cell_type": "code",
   "execution_count": 31,
   "id": "53c884a2-e514-4e51-98dc-e5cf900399ea",
   "metadata": {},
   "outputs": [
    {
     "name": "stdout",
     "output_type": "stream",
     "text": [
      "---------------MENU---------------\n",
      "\n",
      "1001 : 5 Star | 10 | 200\n",
      "1002 : Kitkat | 20 | 300\n",
      "1003 : Candy | 2 | 1000\n",
      "1004 : Chocolate Cake | 550 | 8\n",
      "1005 : Blueberry Cake | 650 | 5\n",
      "\n",
      "----------------------------------\n"
     ]
    },
    {
     "name": "stdin",
     "output_type": "stream",
     "text": [
      "Enter product ID :  1004\n",
      "Enter quantity   :  5\n"
     ]
    },
    {
     "name": "stdout",
     "output_type": "stream",
     "text": [
      "\n",
      "----------------------------------\n",
      "               Bill                 \n",
      "\n",
      "Name             :  Chocolate Cake\n",
      "Price            :  550 Rs\n",
      "Quantity         :  5\n",
      "----------------------------------\n",
      "Billing Amount   :  2750 Rs\n",
      "----------------------------------\n"
     ]
    }
   ],
   "source": [
    "import json  #to save data locally\n",
    "\n",
    "record = {1001 : {'Name' :'5 Star'        , 'Price': 10   , 'Qn' : 200},\n",
    "          1002 : {'Name' :'Kitkat'        , 'Price': 20   , 'Qn' : 300}, \n",
    "          1003 : {'Name' :'Candy'         , 'Price': 2    , 'Qn' : 1000}, \n",
    "          1004 : {'Name' :'Chocolate Cake', 'Price': 550  , 'Qn' : 8},\n",
    "          1005 : {'Name' :'Blueberry Cake', 'Price': 650  , 'Qn' : 5}}\n",
    "\n",
    "print('---------------MENU---------------\\n')\n",
    "for key in record.keys():\n",
    "    print(key,':', record[key]['Name'],'|', record[key]['Price'],'|', record[key]['Qn'])\n",
    "print('\\n----------------------------------')\n",
    "\n",
    "ui_pr = str(input('Enter product ID : '))\n",
    "ui_qn = int(input('Enter quantity   : '))\n",
    "\n",
    "print('\\n----------------------------------')\n",
    "print('               Bill                 \\n')\n",
    "\n",
    "print('Name             : ', record[ui_pr]['Name'])\n",
    "print('Price            : ', record[ui_pr]['Price'],'Rs')\n",
    "print('Quantity         : ', ui_qn)\n",
    "print('----------------------------------')\n",
    "\n",
    "print('Billing Amount   : ', record[ui_pr]['Price'] * ui_qn,'Rs')\n",
    "print('----------------------------------')\n",
    "\n",
    "js = json.dumps(record) \n",
    "\n",
    "fd = open('Records.json','w')\n",
    "fd.write(js)\n",
    "fd.close()"
   ]
  },
  {
   "cell_type": "code",
   "execution_count": 30,
   "id": "d828d763-aff5-4066-b871-3a71eeeed707",
   "metadata": {},
   "outputs": [
    {
     "data": {
      "text/plain": [
       "{1001: {'Name': '5 Star', 'Price': 10, 'Qn': 200},\n",
       " 1002: {'Name': 'Kitkat', 'Price': 20, 'Qn': 300},\n",
       " 1003: {'Name': 'Candy', 'Price': 2, 'Qn': 1000},\n",
       " 1004: {'Name': 'Chocolate Cake', 'Price': 550, 'Qn': 8},\n",
       " 1005: {'Name': 'Blueberry Cake', 'Price': 650, 'Qn': 5}}"
      ]
     },
     "execution_count": 30,
     "metadata": {},
     "output_type": "execute_result"
    }
   ],
   "source": [
    "record"
   ]
  },
  {
   "cell_type": "code",
   "execution_count": 25,
   "id": "fa03f6ca-f1a6-422d-a1a9-e1696e22b203",
   "metadata": {},
   "outputs": [
    {
     "name": "stdout",
     "output_type": "stream",
     "text": [
      "{\"1001\": {\"Name\": \"5 Star\", \"Price\": 10, \"Qn\": 200}, \"1002\": {\"Name\": \"Kitkat\", \"Price\": 20, \"Qn\": 300}, \"1003\": {\"Name\": \"Candy\", \"Price\": 2, \"Qn\": 1000}, \"1004\": {\"Name\": \"Chocolate Cake\", \"Price\": 550, \"Qn\": 8}, \"1005\": {\"Name\": \"Blueberry Cake\", \"Price\": 650, \"Qn\": 5}}\n"
     ]
    }
   ],
   "source": [
    "js = json.dumps(record)        #to convert dictionary into json string format\n",
    "print(js)"
   ]
  },
  {
   "cell_type": "code",
   "execution_count": 22,
   "id": "276305ef-2245-478f-998b-559ce76f54fc",
   "metadata": {},
   "outputs": [
    {
     "data": {
      "text/plain": [
       "str"
      ]
     },
     "execution_count": 22,
     "metadata": {},
     "output_type": "execute_result"
    }
   ],
   "source": [
    "type(json.dumps(record))  #checking the type of data"
   ]
  },
  {
   "cell_type": "code",
   "execution_count": 35,
   "id": "5dab25d4-cdac-4a3f-86bc-eac031e56afe",
   "metadata": {},
   "outputs": [],
   "source": [
    "fd = open('Records.json','w')\n",
    "\n",
    "fd.write(js)\n",
    "\n",
    "fd.close()"
   ]
  },
  {
   "cell_type": "code",
   "execution_count": 36,
   "id": "22398134-c1c2-4bb6-ab33-08381c9e7bcc",
   "metadata": {},
   "outputs": [
    {
     "data": {
      "text/plain": [
       "'{\"1001\": {\"Name\": \"5 Star\", \"Price\": 10, \"Qn\": 200}, \"1002\": {\"Name\": \"Kitkat\", \"Price\": 20, \"Qn\": 300}, \"1003\": {\"Name\": \"Candy\", \"Price\": 2, \"Qn\": 1000}, \"1004\": {\"Name\": \"Chocolate Cake\", \"Price\": 550, \"Qn\": 8}, \"1005\": {\"Name\": \"Blueberry Cake\", \"Price\": 650, \"Qn\": 5}}'"
      ]
     },
     "execution_count": 36,
     "metadata": {},
     "output_type": "execute_result"
    }
   ],
   "source": [
    "js"
   ]
  },
  {
   "cell_type": "code",
   "execution_count": 37,
   "id": "3f1f95f6-bcef-4e51-868d-3aa72c8e7287",
   "metadata": {},
   "outputs": [
    {
     "data": {
      "text/plain": [
       "{'1001': {'Name': '5 Star', 'Price': 10, 'Qn': 200},\n",
       " '1002': {'Name': 'Kitkat', 'Price': 20, 'Qn': 300},\n",
       " '1003': {'Name': 'Candy', 'Price': 2, 'Qn': 1000},\n",
       " '1004': {'Name': 'Chocolate Cake', 'Price': 550, 'Qn': 8},\n",
       " '1005': {'Name': 'Blueberry Cake', 'Price': 650, 'Qn': 5}}"
      ]
     },
     "execution_count": 37,
     "metadata": {},
     "output_type": "execute_result"
    }
   ],
   "source": [
    "json.loads(js)   #Converts back json string to the Dictionary"
   ]
  },
  {
   "cell_type": "code",
   "execution_count": 38,
   "id": "7f45793e-8eed-4a27-81dd-f34dd002477d",
   "metadata": {},
   "outputs": [],
   "source": [
    "fd = open('Records.json','r')\n",
    "js = fd.read()\n",
    "fd.close()"
   ]
  },
  {
   "cell_type": "code",
   "execution_count": 39,
   "id": "0bbdcc72-310e-496f-b06a-0b1384c108bf",
   "metadata": {},
   "outputs": [
    {
     "data": {
      "text/plain": [
       "{'1001': {'Name': '5 Star', 'Price': 10, 'Qn': 200},\n",
       " '1002': {'Name': 'Kitkat', 'Price': 20, 'Qn': 300},\n",
       " '1003': {'Name': 'Candy', 'Price': 2, 'Qn': 1000},\n",
       " '1004': {'Name': 'Chocolate Cake', 'Price': 550, 'Qn': 8},\n",
       " '1005': {'Name': 'Blueberry Cake', 'Price': 650, 'Qn': 5}}"
      ]
     },
     "execution_count": 39,
     "metadata": {},
     "output_type": "execute_result"
    }
   ],
   "source": [
    "json.loads(js)"
   ]
  },
  {
   "cell_type": "code",
   "execution_count": 40,
   "id": "4b2c203f-c6b5-4496-8670-99525cbf3981",
   "metadata": {},
   "outputs": [
    {
     "data": {
      "text/plain": [
       "{1001: {'Name': '5 Star', 'Price': 10, 'Qn': 200},\n",
       " 1002: {'Name': 'Kitkat', 'Price': 20, 'Qn': 300},\n",
       " 1003: {'Name': 'Candy', 'Price': 2, 'Qn': 1000},\n",
       " 1004: {'Name': 'Chocolate Cake', 'Price': 550, 'Qn': 8},\n",
       " 1005: {'Name': 'Blueberry Cake', 'Price': 650, 'Qn': 5}}"
      ]
     },
     "execution_count": 40,
     "metadata": {},
     "output_type": "execute_result"
    }
   ],
   "source": [
    "record"
   ]
  },
  {
   "cell_type": "code",
   "execution_count": 55,
   "id": "71acc0c6-48d4-4598-9ff9-3cc127077ce8",
   "metadata": {},
   "outputs": [
    {
     "name": "stdout",
     "output_type": "stream",
     "text": [
      "---------------MENU---------------\n",
      "\n",
      "1001 : 5 Star | 10 | 200\n",
      "1002 : Kitkat | 20 | 300\n",
      "1003 : Candy | 2 | 1000\n",
      "1004 : Chocolate Cake | 550 | 4\n",
      "1005 : Blueberry Cake | 650 | 1\n",
      "\n",
      "----------------------------------\n"
     ]
    },
    {
     "name": "stdin",
     "output_type": "stream",
     "text": [
      "Enter product ID :  1004\n",
      "Enter quantity   :  5\n"
     ]
    },
    {
     "name": "stdout",
     "output_type": "stream",
     "text": [
      "Sorry, We're not having enough quantity of product in our Inventory.\n",
      "We're only having 4 quantity.\n"
     ]
    },
    {
     "name": "stdin",
     "output_type": "stream",
     "text": [
      "Press Y/y to purchase:  y\n"
     ]
    },
    {
     "name": "stdout",
     "output_type": "stream",
     "text": [
      "\n",
      "----------------------------------\n",
      "               Bill                 \n",
      "\n",
      "Name             :  Chocolate Cake\n",
      "Price            :  550 Rs\n",
      "Quantity         :  4\n",
      "----------------------------------\n",
      "Billing Amount   :  2200 Rs\n",
      "----------------------------------\n"
     ]
    }
   ],
   "source": [
    "# To load data\n",
    "\n",
    "import json  #to save data locally\n",
    "\n",
    "fd = open('Records.json','r')\n",
    "js = fd.read()\n",
    "fd.close()\n",
    "\n",
    "record = json.loads(js)      # Convert JSON string to dictionary\n",
    "\n",
    "print('---------------MENU---------------\\n')\n",
    "for key in record.keys():\n",
    "    print(key,':', record[key]['Name'],'|', record[key]['Price'],'|', record[key]['Qn'])\n",
    "print('\\n----------------------------------')\n",
    "\n",
    "ui_pr = str(input('Enter product ID : '))\n",
    "ui_qn = int(input('Enter quantity   : '))\n",
    "\n",
    "if(record[ui_pr]['Qn'] >= ui_qn):\n",
    "\n",
    "    # UPDATE INVENTORY AFTER PURCHASING\n",
    "    record[str(ui_pr)]['Qn'] = record[str(ui_pr)]['Qn'] - ui_qn\n",
    "\n",
    "    print('\\n----------------------------------')\n",
    "    print('               Bill                 \\n')\n",
    "\n",
    "    print('Name             : ', record[ui_pr]['Name'])\n",
    "    print('Price            : ', record[ui_pr]['Price'],'Rs')\n",
    "    print('Quantity         : ', ui_qn)\n",
    "    print('----------------------------------')\n",
    "\n",
    "    print('Billing Amount   : ', record[ui_pr]['Price'] * ui_qn,'Rs')\n",
    "    print('----------------------------------')\n",
    "\n",
    "else:\n",
    "    print(\"Sorry, We're not having enough quantity of product in our Inventory.\")\n",
    "    print(\"We're only having \" + str(record[ui_pr]['Qn']) + \" quantity.\")\n",
    "\n",
    "    ch = input(\"Press Y/y to purchase: \")\n",
    "\n",
    "    if(ch == \"Y\" or ch == \"y\"):\n",
    "    \n",
    "        print('\\n----------------------------------')\n",
    "        print('               Bill                 \\n')\n",
    "\n",
    "        print('Name             : ', record[ui_pr]['Name'])\n",
    "        print('Price            : ', record[ui_pr]['Price'],'Rs')\n",
    "        print('Quantity         : ', record[ui_pr]['Qn'])\n",
    "        print('----------------------------------')\n",
    "\n",
    "        print('Billing Amount   : ', record[ui_pr]['Price'] * record[ui_pr]['Qn'],'Rs')\n",
    "        print('----------------------------------')\n",
    "        record[str(ui_pr)]['Qn'] = 0\n",
    "    \n",
    "    else:\n",
    "        print(\"Thanks!!\")\n",
    "        \n",
    "js = json.dumps(record)       # Convert dictionary to JSON string \n",
    "\n",
    "fd = open('Records.json','w')\n",
    "fd.write(js)\n",
    "fd.close()\n"
   ]
  },
  {
   "cell_type": "code",
   "execution_count": 56,
   "id": "3df59c37-5532-41ad-a3fc-622f12ca8810",
   "metadata": {},
   "outputs": [
    {
     "data": {
      "text/plain": [
       "{'1001': {'Name': '5 Star', 'Price': 10, 'Qn': 200},\n",
       " '1002': {'Name': 'Kitkat', 'Price': 20, 'Qn': 300},\n",
       " '1003': {'Name': 'Candy', 'Price': 2, 'Qn': 1000},\n",
       " '1004': {'Name': 'Chocolate Cake', 'Price': 550, 'Qn': 0},\n",
       " '1005': {'Name': 'Blueberry Cake', 'Price': 650, 'Qn': 1}}"
      ]
     },
     "execution_count": 56,
     "metadata": {},
     "output_type": "execute_result"
    }
   ],
   "source": [
    "record"
   ]
  },
  {
   "cell_type": "code",
   "execution_count": null,
   "id": "5c5032b4-8c09-4346-9f5d-58b0d9e97829",
   "metadata": {},
   "outputs": [],
   "source": []
  }
 ],
 "metadata": {
  "kernelspec": {
   "display_name": "Python [conda env:base] *",
   "language": "python",
   "name": "conda-base-py"
  },
  "language_info": {
   "codemirror_mode": {
    "name": "ipython",
    "version": 3
   },
   "file_extension": ".py",
   "mimetype": "text/x-python",
   "name": "python",
   "nbconvert_exporter": "python",
   "pygments_lexer": "ipython3",
   "version": "3.13.5"
  }
 },
 "nbformat": 4,
 "nbformat_minor": 5
}
