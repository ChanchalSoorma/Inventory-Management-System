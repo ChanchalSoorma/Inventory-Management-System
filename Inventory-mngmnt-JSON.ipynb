{
 "cells": [
  {
   "cell_type": "code",
   "execution_count": 13,
   "id": "486be68d-8142-445b-94ce-51b7f4e09f06",
   "metadata": {},
   "outputs": [],
   "source": [
    "# Revising the concept of dictionary\n",
    "record = {1001 : {'Name' :'5 Star'        , 'Price': 10   , 'Qn' : 200},\n",
    "          1002 : {'Name' :'Kitkat'        , 'Price': 20   , 'Qn' : 300}, \n",
    "          1003 : {'Name' :'Candy'         , 'Price': 2    , 'Qn' : 1000}, \n",
    "          1004 : {'Name' :'Chocolate Cake', 'Price': 550  , 'Qn' : 10},\n",
    "          1005 : {'Name' :'Blueberry Cake', 'Price': 650  , 'Qn' : 5}}"
   ]
  },
  {
   "cell_type": "code",
   "execution_count": 14,
   "id": "cf2d9a56-83b2-4aa2-8ca4-5dafebd61fa6",
   "metadata": {},
   "outputs": [
    {
     "data": {
      "text/plain": [
       "{1001: {'Name': '5 Star', 'Price': 10, 'Qn': 200},\n",
       " 1002: {'Name': 'Kitkat', 'Price': 20, 'Qn': 300},\n",
       " 1003: {'Name': 'Candy', 'Price': 2, 'Qn': 1000},\n",
       " 1004: {'Name': 'Chocolate Cake', 'Price': 550, 'Qn': 10},\n",
       " 1005: {'Name': 'Blueberry Cake', 'Price': 650, 'Qn': 5}}"
      ]
     },
     "execution_count": 14,
     "metadata": {},
     "output_type": "execute_result"
    }
   ],
   "source": [
    "record"
   ]
  },
  {
   "cell_type": "code",
   "execution_count": 15,
   "id": "7effae4a-bc8b-4169-bf32-3df94ab438c4",
   "metadata": {},
   "outputs": [
    {
     "data": {
      "text/plain": [
       "{'Name': '5 Star', 'Price': 10, 'Qn': 200}"
      ]
     },
     "execution_count": 15,
     "metadata": {},
     "output_type": "execute_result"
    }
   ],
   "source": [
    "record[1001]"
   ]
  },
  {
   "cell_type": "code",
   "execution_count": 18,
   "id": "7bc5b1ab-19a8-4e0e-a1f5-426bd25cab26",
   "metadata": {},
   "outputs": [
    {
     "data": {
      "text/plain": [
       "'Kitkat'"
      ]
     },
     "execution_count": 18,
     "metadata": {},
     "output_type": "execute_result"
    }
   ],
   "source": [
    "record[1002]['Name']"
   ]
  },
  {
   "cell_type": "code",
   "execution_count": null,
   "id": "5cc10972-e629-43d3-b89c-caba7ba1d071",
   "metadata": {},
   "outputs": [],
   "source": []
  }
 ],
 "metadata": {
  "kernelspec": {
   "display_name": "Python [conda env:base] *",
   "language": "python",
   "name": "conda-base-py"
  },
  "language_info": {
   "codemirror_mode": {
    "name": "ipython",
    "version": 3
   },
   "file_extension": ".py",
   "mimetype": "text/x-python",
   "name": "python",
   "nbconvert_exporter": "python",
   "pygments_lexer": "ipython3",
   "version": "3.13.5"
  }
 },
 "nbformat": 4,
 "nbformat_minor": 5
}
