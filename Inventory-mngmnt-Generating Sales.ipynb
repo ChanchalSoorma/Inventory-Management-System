{
 "cells": [
  {
   "cell_type": "code",
   "execution_count": 17,
   "id": "868cb570-a44e-4334-97c7-cbf6043805ed",
   "metadata": {},
   "outputs": [
    {
     "name": "stdout",
     "output_type": "stream",
     "text": [
      "---------------MENU---------------\n",
      "\n",
      "1001 : 5 Star | 10 | 180\n",
      "1002 : Kitkat | 20 | 290\n",
      "1003 : Candy | 2 | 600\n",
      "1004 : Chocolate Cake | 550 | 0\n",
      "1005 : Blueberry Cake | 650 | 0\n",
      "\n",
      "----------------------------------\n"
     ]
    },
    {
     "name": "stdin",
     "output_type": "stream",
     "text": [
      "Enter your name    :  Tiya\n",
      "Enter Mail ID      :  tiya@gmail.com\n",
      "Enter Phone No     :  290145\n",
      "Enter product ID   :  1004\n",
      "Enter quantity     :  1\n"
     ]
    },
    {
     "name": "stdout",
     "output_type": "stream",
     "text": [
      "Sorry, We're not having enough quantity of product in our Inventory.\n",
      "We're only having 0 quantity.\n"
     ]
    },
    {
     "name": "stdin",
     "output_type": "stream",
     "text": [
      "Press Y/y to purchase:  y\n"
     ]
    },
    {
     "name": "stdout",
     "output_type": "stream",
     "text": [
      "\n",
      "----------------------------------\n",
      "               Bill                 \n",
      "\n",
      "Name             :  Chocolate Cake\n",
      "Price            :  550 Rs\n",
      "Quantity         :  0\n",
      "----------------------------------\n",
      "Billing Amount   :  0 Rs\n",
      "----------------------------------\n"
     ]
    }
   ],
   "source": [
    "import json  #to save data locally\n",
    "import time\n",
    "\n",
    "fd = open('Records.json','r')\n",
    "js = fd.read()\n",
    "fd.close()\n",
    "\n",
    "record = json.loads(js)      # Convert JSON string to dictionary\n",
    "\n",
    "print('---------------MENU---------------\\n')\n",
    "for key in record.keys():\n",
    "    print(key,':', record[key]['Name'],'|', record[key]['Price'],'|', record[key]['Qn'])\n",
    "print('\\n----------------------------------')\n",
    "\n",
    "ui_name = str(input(\"Enter your name    : \"))\n",
    "ui_mail = str(input(\"Enter Mail ID      : \"))\n",
    "ui_ph   = str(input(\"Enter Phone No     : \"))\n",
    "ui_pr   = str(input('Enter product ID   : '))\n",
    "ui_qn   = int(input('Enter quantity     : '))\n",
    "\n",
    "if(record[ui_pr]['Qn'] >= ui_qn):\n",
    "\n",
    "    # UPDATE INVENTORY AFTER PURCHASING\n",
    "    record[str(ui_pr)]['Qn'] = record[str(ui_pr)]['Qn'] - ui_qn\n",
    "\n",
    "    print('\\n----------------------------------')\n",
    "    print('               Bill                 \\n')\n",
    "\n",
    "    print('Name             : ', record[ui_pr]['Name'])\n",
    "    print('Price            : ', record[ui_pr]['Price'],'Rs')\n",
    "    print('Quantity         : ', ui_qn)\n",
    "    print('----------------------------------')\n",
    "\n",
    "    print('Billing Amount   : ', record[ui_pr]['Price'] * ui_qn,'Rs')\n",
    "    print('----------------------------------')\n",
    "\n",
    "    sale = ui_name+\",\"+ui_mail+\",\"+ui_ph+\",\"+ui_pr+\",\"+record[ui_pr][\"Name\"]+\",\"+str(ui_qn)+\",\"+str(record[ui_pr][\"Price\"])+\",\"+str(ui_qn * record[ui_pr][\"Price\"])+\",\"+time.ctime()+ \"\\n\"\n",
    "\n",
    "else:\n",
    "    print(\"Sorry, We're not having enough quantity of product in our Inventory.\")\n",
    "    print(\"We're only having \" + str(record[ui_pr]['Qn']) + \" quantity.\")\n",
    "\n",
    "    ch = input(\"Press Y/y to purchase: \")\n",
    "\n",
    "    if(ch == \"Y\" or ch == \"y\"):\n",
    "    \n",
    "        print('\\n----------------------------------')\n",
    "        print('               Bill                 \\n')\n",
    "\n",
    "        print('Name             : ', record[ui_pr]['Name'])\n",
    "        print('Price            : ', record[ui_pr]['Price'],'Rs')\n",
    "        print('Quantity         : ', record[ui_pr]['Qn'])\n",
    "        print('----------------------------------')\n",
    "\n",
    "        print('Billing Amount   : ', record[ui_pr]['Price'] * record[ui_pr]['Qn'],'Rs')\n",
    "        print('----------------------------------')\n",
    "\n",
    "        sale = ui_name+\",\"+ui_mail+\",\"+ui_ph+\",\"+ui_pr+\",\"+record[ui_pr][\"Name\"]+\",\"+str(record[ui_pr]['Qn'])+\",\"+str(record[ui_pr][\"Price\"])+\",\"+str(record[ui_pr]['Qn'] * record[ui_pr][\"Price\"])+\",\"+time.ctime()+ \"\\n\"\n",
    "        record[str(ui_pr)]['Qn'] = 0\n",
    "    \n",
    "    else:\n",
    "        print(\"Thanks!!\")\n",
    "        \n",
    "js = json.dumps(record)       # Convert dictionary to JSON string \n",
    "\n",
    "fd = open('Records.json','w')\n",
    "fd.write(js)\n",
    "fd.close()"
   ]
  },
  {
   "cell_type": "code",
   "execution_count": 18,
   "id": "aad08789-7c9e-4f67-ad14-b3a89de63da6",
   "metadata": {},
   "outputs": [
    {
     "data": {
      "text/plain": [
       "'Tiya,tiya@gmail.com,290145,1004,Chocolate Cake,0,550,0,Thu Jul 24 17:52:00 2025\\n'"
      ]
     },
     "execution_count": 18,
     "metadata": {},
     "output_type": "execute_result"
    }
   ],
   "source": [
    "sale"
   ]
  },
  {
   "cell_type": "code",
   "execution_count": 19,
   "id": "52ff6fae-10a0-4039-8502-197b1e9acbf9",
   "metadata": {},
   "outputs": [],
   "source": [
    "fd = open('Sales_new.txt','a')\n",
    "fd.write(sale)\n",
    "fd.close()"
   ]
  },
  {
   "cell_type": "code",
   "execution_count": null,
   "id": "46f5e073-8534-468e-b569-d8dba49f52c9",
   "metadata": {},
   "outputs": [],
   "source": []
  }
 ],
 "metadata": {
  "kernelspec": {
   "display_name": "Python [conda env:base] *",
   "language": "python",
   "name": "conda-base-py"
  },
  "language_info": {
   "codemirror_mode": {
    "name": "ipython",
    "version": 3
   },
   "file_extension": ".py",
   "mimetype": "text/x-python",
   "name": "python",
   "nbconvert_exporter": "python",
   "pygments_lexer": "ipython3",
   "version": "3.13.5"
  }
 },
 "nbformat": 4,
 "nbformat_minor": 5
}
