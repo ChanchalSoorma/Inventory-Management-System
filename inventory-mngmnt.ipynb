{
 "cells": [
  {
   "cell_type": "code",
   "execution_count": 10,
   "id": "013b8d3b-4bd8-434d-8eee-903bc8d2d237",
   "metadata": {},
   "outputs": [
    {
     "name": "stdout",
     "output_type": "stream",
     "text": [
      "Text file 'my_text_file.txt' created successfully.\n"
     ]
    }
   ],
   "source": [
    "fd = open('Inventory.txt', 'w')\n",
    "fd.close()\n",
    "print(\"Text file 'my_text_file.txt' created successfully.\")\n"
   ]
  },
  {
   "cell_type": "markdown",
   "id": "53a9b282-83ca-4750-9cab-b88ab6bf9c07",
   "metadata": {},
   "source": [
    "## Product details\n",
    "1. Product ID\n",
    "2. Name of the product\n",
    "3. Price of the product\n",
    "4. Quantity"
   ]
  },
  {
   "cell_type": "code",
   "execution_count": 3,
   "id": "677f4eed-a919-4daf-9a32-9bee0e4d3e9c",
   "metadata": {},
   "outputs": [
    {
     "name": "stdout",
     "output_type": "stream",
     "text": [
      "\u001b[34mApplications\u001b[m\u001b[m            \u001b[34mDocuments\u001b[m\u001b[m               \u001b[34mLibrary\u001b[m\u001b[m\n",
      "\u001b[34mbits\u001b[m\u001b[m                    \u001b[34mDownloads\u001b[m\u001b[m               \u001b[34mMovies\u001b[m\u001b[m\n",
      "covid.txt               inventory-mngmnt.ipynb  \u001b[34mMusic\u001b[m\u001b[m\n",
      "data.txt                Inventry.txt            \u001b[34mPictures\u001b[m\u001b[m\n",
      "data1.txt               \u001b[34mjupyter-1.0.0\u001b[m\u001b[m           \u001b[34mPublic\u001b[m\u001b[m\n",
      "\u001b[34mDesktop\u001b[m\u001b[m                 jupyter.tar.gz          textpreprocessing.ipynb\n"
     ]
    }
   ],
   "source": [
    "!ls"
   ]
  },
  {
   "cell_type": "code",
   "execution_count": 15,
   "id": "6a788fdc-d08f-4bc3-baa5-f090dd05292b",
   "metadata": {},
   "outputs": [],
   "source": [
    "fd = open('Inventory.txt','r')\n",
    "txt = fd.read()\n",
    "fd.close()"
   ]
  },
  {
   "cell_type": "code",
   "execution_count": 16,
   "id": "a307c9af-a0c7-4551-a92a-e65200054e43",
   "metadata": {},
   "outputs": [
    {
     "data": {
      "text/plain": [
       "'1,5 Star,5,100\\n2,Milky Bar,5,100\\n3,Cake,300,5\\n4,Candy,1,200'"
      ]
     },
     "execution_count": 16,
     "metadata": {},
     "output_type": "execute_result"
    }
   ],
   "source": [
    "txt"
   ]
  },
  {
   "cell_type": "code",
   "execution_count": 18,
   "id": "28478937-5e5c-429a-9fb8-93ec02dfb806",
   "metadata": {},
   "outputs": [
    {
     "name": "stdout",
     "output_type": "stream",
     "text": [
      "1,5 Star,5,100\n",
      "2,Milky Bar,5,100\n",
      "3,Cake,300,5\n",
      "4,Candy,1,200\n"
     ]
    }
   ],
   "source": [
    "print(txt)"
   ]
  },
  {
   "cell_type": "code",
   "execution_count": 22,
   "id": "9319e7ad-4476-45c0-844e-62b0072fa070",
   "metadata": {},
   "outputs": [
    {
     "data": {
      "text/plain": [
       "['1,5 Star,5,100', '2,Milky Bar,5,100', '3,Cake,300,5', '4,Candy,1,200']"
      ]
     },
     "execution_count": 22,
     "metadata": {},
     "output_type": "execute_result"
    }
   ],
   "source": [
    "txt.split('\\n')"
   ]
  },
  {
   "cell_type": "code",
   "execution_count": 21,
   "id": "32688f38-048e-439c-8d6b-fb46bd604d57",
   "metadata": {},
   "outputs": [
    {
     "data": {
      "text/plain": [
       "4"
      ]
     },
     "execution_count": 21,
     "metadata": {},
     "output_type": "execute_result"
    }
   ],
   "source": [
    "len(txt.split('\\n'))"
   ]
  },
  {
   "cell_type": "code",
   "execution_count": 2,
   "id": "d65c154d-f64f-44e5-925e-28381a8c2ef7",
   "metadata": {},
   "outputs": [],
   "source": [
    "fd = open('Inventory.txt', 'r')\n",
    "products = fd.read().split('\\n')\n",
    "fd.close()"
   ]
  },
  {
   "cell_type": "code",
   "execution_count": 3,
   "id": "6179c9c6-065c-43a5-a611-4c2ce0cc433a",
   "metadata": {},
   "outputs": [
    {
     "name": "stdout",
     "output_type": "stream",
     "text": [
      "1,5 Star,5,100\n",
      "2,Milky Bar,5,100\n",
      "3,Cake,300,5\n",
      "4,Candy,1,200\n"
     ]
    }
   ],
   "source": [
    "for i in products:\n",
    "    print(i)"
   ]
  },
  {
   "cell_type": "code",
   "execution_count": 4,
   "id": "9420152f-3859-4246-9231-39556d6f853a",
   "metadata": {},
   "outputs": [
    {
     "name": "stdin",
     "output_type": "stream",
     "text": [
      "Enter product ID:  3\n"
     ]
    },
    {
     "name": "stdout",
     "output_type": "stream",
     "text": [
      "1\n",
      "2\n",
      "3\n",
      "4\n"
     ]
    }
   ],
   "source": [
    "ui_prod_id = input(\"Enter product ID: \")\n",
    "for product in products:\n",
    "    print(product.split(',')[0])"
   ]
  },
  {
   "cell_type": "code",
   "execution_count": 7,
   "id": "a997419a-af1e-43c6-8526-7875eb464a61",
   "metadata": {},
   "outputs": [
    {
     "name": "stdin",
     "output_type": "stream",
     "text": [
      "Enter product ID:  2\n",
      "Enter product Quantity:  8\n"
     ]
    },
    {
     "name": "stdout",
     "output_type": "stream",
     "text": [
      "-----------------------\n",
      "Product name   : Milky Bar\n",
      "Price          : 5\n",
      "Quantity       : 8\n",
      "-----------------------\n",
      "Billing Amount : 40\n",
      "-----------------------\n"
     ]
    }
   ],
   "source": [
    "ui_prod_id = input(\"Enter product ID: \")\n",
    "ui_prod_qn = input(\"Enter product Quantity: \")\n",
    "\n",
    "for product in products:\n",
    "    prod_details = (product.split(','))\n",
    "\n",
    "    if(prod_details[0] == ui_prod_id):\n",
    "        print('-----------------------')\n",
    "        print(\"Product name   :\", prod_details[1])\n",
    "        print(\"Price          :\", prod_details[2])\n",
    "        print(\"Quantity       :\", ui_prod_qn)\n",
    "        print('-----------------------')\n",
    "        print(\"Billing Amount :\", int(ui_prod_qn) * int(prod_details[2]))\n",
    "        print('-----------------------')\n",
    "        "
   ]
  },
  {
   "cell_type": "code",
   "execution_count": 12,
   "id": "8884b99c-31f2-4fd7-b865-5256bf4c52e9",
   "metadata": {},
   "outputs": [
    {
     "name": "stdin",
     "output_type": "stream",
     "text": [
      "Enter product ID:  2\n",
      "Enter product Quantity:  4\n"
     ]
    },
    {
     "name": "stdout",
     "output_type": "stream",
     "text": [
      "-----------------------------\n",
      "Product Name     :  Milky Bar\n",
      "Price            :  5\n",
      "Quantity         :  4\n",
      "-----------------------------\n",
      "Billing Amount   :  20\n",
      "-----------------------------\n"
     ]
    }
   ],
   "source": [
    "ui_prod_id = input(\"Enter product ID: \")\n",
    "ui_prod_qn = input(\"Enter product Quantity: \")\n",
    "\n",
    "updated_product_lst = []  # To store updated inventory\n",
    "\n",
    "for product in products:\n",
    "    prod_details = product.split(',') \n",
    "    \n",
    "    if prod_details[0] == ui_prod_id:  \n",
    "        \n",
    "        print(\"-----------------------------\")\n",
    "        print(\"Product Name     : \", prod_details[1])\n",
    "        print(\"Price            : \", prod_details[2]) \n",
    "        print(\"Quantity         : \", ui_prod_qn) \n",
    "        print(\"-----------------------------\")\n",
    "        \n",
    "        # Calculate Billing Amount\n",
    "        billing_amount = int(ui_prod_qn) * int(prod_details[2])\n",
    "        print(\"Billing Amount   : \", billing_amount)\n",
    "        print(\"-----------------------------\")\n",
    "        \n",
    "        # Deduct the purchased quantity from inventory\n",
    "        prod_details[3] = str(int(prod_details[3]) - int(ui_prod_qn))\n",
    "    \n",
    "    updated_product_lst.append(prod_details)\n",
    "\n",
    "lst = []\n",
    "\n",
    "for i in updated_product_lst:\n",
    "    prod = i[0]+ ',' + i[1]+ ',' + i[2]+ ',' + i[3] + '\\n'\n",
    "    lst.append(prod)\n",
    "\n",
    "lst[-1] = lst[-1][:-1]\n",
    "\n",
    "fd = open('Inventory.txt', 'w')\n",
    "\n",
    "for i in lst:\n",
    "    fd.write(i)\n",
    "\n",
    "fd.close()\n",
    "    "
   ]
  },
  {
   "cell_type": "code",
   "execution_count": 22,
   "id": "666b6e31-c521-4978-b2a8-ebf5698c91cf",
   "metadata": {},
   "outputs": [
    {
     "name": "stdin",
     "output_type": "stream",
     "text": [
      "Enter product ID:  2\n",
      "Enter product Quantity:  200\n"
     ]
    },
    {
     "name": "stdout",
     "output_type": "stream",
     "text": [
      "-----------------------------\n",
      "Sorry! We don't have enough products.\n",
      "We're having only 100 quantity.\n",
      "Would you like to purchase it?\n",
      "-----------------------------\n"
     ]
    },
    {
     "name": "stdin",
     "output_type": "stream",
     "text": [
      "Press Y/N :  y\n"
     ]
    },
    {
     "name": "stdout",
     "output_type": "stream",
     "text": [
      "-----------------------------\n",
      "Product Name     :  Milky Bar\n",
      "Price            :  5\n",
      "Quantity         :  100\n",
      "-----------------------------\n",
      "Billing Amount   :  500\n",
      "-----------------------------\n",
      "-----------------------------\n",
      "Inventory updated\n"
     ]
    }
   ],
   "source": [
    "ui_prod_id = input(\"Enter product ID: \")\n",
    "ui_prod_qn = input(\"Enter product Quantity: \")\n",
    "\n",
    "updated_product_lst = []  # To store updated inventory\n",
    "\n",
    "for product in products:       # going through each product detail\n",
    "    prod_details = product.split(',') \n",
    "    \n",
    "    if (prod_details[0] == ui_prod_id):     # Checking if product exists or not...\n",
    "\n",
    "        if (int(ui_prod_qn) <= int(prod_details[3])):    # if we are having enough quantity\n",
    "        \n",
    "            print(\"-----------------------------\")\n",
    "            print(\"Product Name     : \", prod_details[1])\n",
    "            print(\"Price            : \", prod_details[2]) \n",
    "            print(\"Quantity         : \", ui_prod_qn) \n",
    "            print(\"-----------------------------\")\n",
    "           \n",
    "            # Calculate Billing Amount\n",
    "            billing_amount = int(ui_prod_qn) * int(prod_details[2])\n",
    "            print(\"Billing Amount   : \", billing_amount)\n",
    "            print(\"-----------------------------\")\n",
    "            \n",
    "            # Deduct the purchased quantity from inventory\n",
    "            prod_details[3] = str(int(prod_details[3]) - int(ui_prod_qn))\n",
    "\n",
    "        else:     # if we are not having enough quantity\n",
    "            \n",
    "            print('-----------------------------')\n",
    "            print(\"Sorry! We don't have enough products.\")\n",
    "            print(\"We're having only\", prod_details[3], \"quantity.\")\n",
    "            print(\"Would you like to purchase it?\")\n",
    "            print('-----------------------------')\n",
    "            ch = input(\"Press Y/N : \")\n",
    "\n",
    "            if (ch == 'Y' or ch == 'y'):\n",
    "            # If you want to purchase from remaining stock\n",
    "                print(\"-----------------------------\")\n",
    "                print(\"Product Name     : \", prod_details[1])\n",
    "                print(\"Price            : \", prod_details[2]) \n",
    "                print(\"Quantity         : \", prod_details[3]) \n",
    "                print(\"-----------------------------\")\n",
    "           \n",
    "                # Calculate Billing Amount\n",
    "                billing_amount = int(prod_details[3]) * int(prod_details[2])\n",
    "                print(\"Billing Amount   : \", billing_amount)\n",
    "                print(\"-----------------------------\")\n",
    "            \n",
    "                # Deduct the purchased quantity from inventory\n",
    "                prod_details[3] = '0'\n",
    "\n",
    "            else:\n",
    "                print(\"Thanks!!\")\n",
    "                \n",
    "    #Updating the inventory list\n",
    "    updated_product_lst.append(prod_details)\n",
    "\n",
    "lst = []\n",
    "\n",
    "for i in updated_product_lst:\n",
    "    prod = i[0]+ ',' + i[1]+ ',' + i[2]+ ',' + i[3] + '\\n'\n",
    "    lst.append(prod)\n",
    "\n",
    "lst[-1] = lst[-1][:-1]\n",
    "\n",
    "# updating the inventory file\n",
    "fd = open('Inventory.txt', 'w')\n",
    "\n",
    "for i in lst:\n",
    "    fd.write(i)\n",
    "\n",
    "fd.close()\n",
    "\n",
    "print('-----------------------------')\n",
    "print('Inventory updated')"
   ]
  },
  {
   "cell_type": "code",
   "execution_count": 28,
   "id": "8a6441ab-9135-485c-9942-8e72251abf1f",
   "metadata": {},
   "outputs": [
    {
     "name": "stdin",
     "output_type": "stream",
     "text": [
      "Enter your name:  Chanchal\n",
      "Enter your phone no :  123456\n",
      "Enter product ID:  4\n",
      "Enter product Quantity:  5\n"
     ]
    },
    {
     "name": "stdout",
     "output_type": "stream",
     "text": [
      "-----------------------------\n",
      "Product Name     :  Candy\n",
      "Price            :  1\n",
      "Quantity         :  5\n",
      "-----------------------------\n",
      "Billing Amount   :  5\n",
      "-----------------------------\n",
      "-----------------------------\n",
      "Inventory updated\n"
     ]
    }
   ],
   "source": [
    "import time\n",
    "\n",
    "ui_name    = input(\"Enter your name: \")\n",
    "ui_phone   = input(\"Enter your phone no : \")\n",
    "ui_prod_id = input(\"Enter product ID: \")\n",
    "ui_prod_qn = input(\"Enter product Quantity: \")\n",
    "\n",
    "updated_product_lst = []  # To store updated inventory\n",
    "\n",
    "for product in products:       # going through each product detail\n",
    "    prod_details = product.split(',') \n",
    "    \n",
    "    if (prod_details[0] == ui_prod_id):     # Checking if product exists or not...\n",
    "\n",
    "        if (int(ui_prod_qn) <= int(prod_details[3])):    # if we are having enough quantity\n",
    "\n",
    "            \n",
    "            print(\"-----------------------------\")\n",
    "            print(\"Product Name     : \", prod_details[1])\n",
    "            print(\"Price            : \", prod_details[2]) \n",
    "            print(\"Quantity         : \", ui_prod_qn) \n",
    "            print(\"-----------------------------\")\n",
    "           \n",
    "            # Calculate Billing Amount\n",
    "            billing_amount = int(ui_prod_qn) * int(prod_details[2])\n",
    "            print(\"Billing Amount   : \", billing_amount)\n",
    "            print(\"-----------------------------\")\n",
    "            \n",
    "            # Deduct the purchased quantity from inventory\n",
    "            prod_details[3] = str(int(prod_details[3]) - int(ui_prod_qn))\n",
    "\n",
    "            fd = open(\"Sales.txt\", 'a')\n",
    "            sales_detail = ui_name +\",\"+ ui_phone +\",\"+ prod_details[1] +\",\"+ ui_prod_id +\",\"+ ui_prod_qn +\",\"+ str(int(ui_prod_qn) * int(prod_details[2]))+\",\"+ time.ctime() +\" \\n\"\n",
    "            fd.write(sales_detail)\n",
    "            fd.close()\n",
    "\n",
    "        else:     # if we are not having enough quantity\n",
    "            \n",
    "            print('-----------------------------')\n",
    "            print(\"Sorry! We don't have enough products.\")\n",
    "            print(\"We're having only\", prod_details[3], \"quantity.\")\n",
    "            print(\"Would you like to purchase it?\")\n",
    "            print('-----------------------------')\n",
    "            ch = input(\"Press Y/N : \")\n",
    "\n",
    "            if (ch == 'Y' or ch == 'y'):\n",
    "            # If you want to purchase from remaining stock\n",
    "                print(\"-----------------------------\")\n",
    "                print(\"Product Name     : \", prod_details[1])\n",
    "                print(\"Price            : \", prod_details[2]) \n",
    "                print(\"Quantity         : \", prod_details[3]) \n",
    "                print(\"-----------------------------\")\n",
    "           \n",
    "                # Calculate Billing Amount\n",
    "                billing_amount = int(prod_details[3]) * int(prod_details[2])\n",
    "                print(\"Billing Amount   : \", billing_amount)\n",
    "                print(\"-----------------------------\")\n",
    "            \n",
    "                # Deduct the purchased quantity from inventory\n",
    "                prod_details[3] = '0'\n",
    "\n",
    "            else:\n",
    "                print(\"Thanks!!\")\n",
    "\n",
    " #Updating the inventory list\n",
    "    updated_product_lst.append(prod_details)\n",
    "\n",
    "lst = []\n",
    "\n",
    "for i in updated_product_lst:\n",
    "    prod = i[0]+ ',' + i[1]+ ',' + i[2]+ ',' + i[3] + '\\n'\n",
    "    lst.append(prod)\n",
    "\n",
    "lst[-1] = lst[-1][:-1]\n",
    "\n",
    "# updating the inventory file\n",
    "fd = open('Inventory.txt', 'w')\n",
    "\n",
    "for i in lst:\n",
    "    fd.write(i)\n",
    "\n",
    "fd.close()\n",
    "\n",
    "print('-----------------------------')\n",
    "print('Inventory updated')"
   ]
  },
  {
   "cell_type": "code",
   "execution_count": 23,
   "id": "9f6fc089-ba02-4710-a16d-2e18279059ea",
   "metadata": {},
   "outputs": [
    {
     "name": "stdout",
     "output_type": "stream",
     "text": [
      "Text file 'my_text_file.txt' created successfully.\n"
     ]
    }
   ],
   "source": [
    "fd = open('Sales.txt', 'w')\n",
    "fd.close()\n",
    "print(\"Text file 'my_text_file.txt' created successfully.\")\n"
   ]
  },
  {
   "cell_type": "code",
   "execution_count": null,
   "id": "16824677-8356-48d5-ba1c-756cfe84fe71",
   "metadata": {},
   "outputs": [],
   "source": []
  }
 ],
 "metadata": {
  "kernelspec": {
   "display_name": "Python [conda env:base] *",
   "language": "python",
   "name": "conda-base-py"
  },
  "language_info": {
   "codemirror_mode": {
    "name": "ipython",
    "version": 3
   },
   "file_extension": ".py",
   "mimetype": "text/x-python",
   "name": "python",
   "nbconvert_exporter": "python",
   "pygments_lexer": "ipython3",
   "version": "3.13.5"
  }
 },
 "nbformat": 4,
 "nbformat_minor": 5
}
